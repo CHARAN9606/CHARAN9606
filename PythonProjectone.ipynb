{
 "cells": [
  {
   "cell_type": "code",
   "execution_count": null,
   "id": "77a8859f",
   "metadata": {},
   "outputs": [],
   "source": []
  },
  {
   "cell_type": "code",
   "execution_count": 47,
   "id": "f80d3a86",
   "metadata": {
    "scrolled": false
   },
   "outputs": [],
   "source": [
    "import pandas as pd\n",
    "import warnings as war\n",
    "war.filterwarnings(\"ignore\")\n",
    "from sklearn.tree import DecisionTreeClassifier\n",
    "from sklearn.model_selection import train_test_split\n",
    "from sklearn.metrics import accuracy_score\n",
    "import joblib\n",
    "from sklearn import tree\n",
    "df = pd.read_csv(r'C:\\Users\\Charan\\PycharmProjects\\music.csv')\n",
    "A = df.drop(columns = ['genre'])\n",
    "b = df['genre']\n",
    "# A_train,A_test,b_train,b_test = train_test_split(A,b,test_size=0.2)\n",
    "\n",
    "model = DecisionTreeClassifier()\n",
    "model.fit(A_train,b_train)\n",
    "# out = model.predict(A_test)\n",
    "tree.export_graphviz(model,out_file = 'music-recommender.dot',\n",
    "                    feature_names = ['age','gender'],\n",
    "                    class_names = sorted(y.unique()),\n",
    "                    label = \"all\",\n",
    "                    rounded = True,\n",
    "                    filled = True)\n",
    "\n",
    "# accuracy = accuracy_score(b_test,out)\n",
    "# accuracy*100\n",
    "# models = joblib.load('music-recommender.joblib')\n",
    "# prediction = models.predict([[20,2]])\n",
    "# prediction\n",
    "\n"
   ]
  },
  {
   "cell_type": "code",
   "execution_count": null,
   "id": "c3c1ecfe",
   "metadata": {},
   "outputs": [],
   "source": []
  },
  {
   "cell_type": "code",
   "execution_count": null,
   "id": "54b8a515",
   "metadata": {},
   "outputs": [],
   "source": []
  }
 ],
 "metadata": {
  "kernelspec": {
   "display_name": "Python 3 (ipykernel)",
   "language": "python",
   "name": "python3"
  },
  "language_info": {
   "codemirror_mode": {
    "name": "ipython",
    "version": 3
   },
   "file_extension": ".py",
   "mimetype": "text/x-python",
   "name": "python",
   "nbconvert_exporter": "python",
   "pygments_lexer": "ipython3",
   "version": "3.9.13"
  }
 },
 "nbformat": 4,
 "nbformat_minor": 5
}
